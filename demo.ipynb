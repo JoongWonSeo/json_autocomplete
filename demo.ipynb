{
 "cells": [
  {
   "cell_type": "code",
   "execution_count": 1,
   "metadata": {},
   "outputs": [],
   "source": [
    "import json\n",
    "from json_autocomplete import json_autocomplete\n",
    "\n",
    "\n",
    "def test_all(test):\n",
    "    json.loads(test)\n",
    "\n",
    "    for i in range(0, len(test)):\n",
    "        completed = json_autocomplete(test[:i])\n",
    "        try:\n",
    "            json.loads(completed)\n",
    "        except:\n",
    "            print(f\"Invalid JSON at prefix {i}!!!\")\n",
    "            print(test[:i])\n",
    "            print(completed)\n",
    "            break\n",
    "\n",
    "    print(\"Done.\")\n",
    "\n",
    "\n",
    "def benchmark_all(test):\n",
    "    for i in range(0, len(test)):\n",
    "        json_autocomplete(test[:i])"
   ]
  },
  {
   "cell_type": "code",
   "execution_count": 2,
   "metadata": {},
   "outputs": [
    {
     "data": {
      "text/plain": [
       "' [   {}]'"
      ]
     },
     "execution_count": 2,
     "metadata": {},
     "output_type": "execute_result"
    }
   ],
   "source": [
    "json_autocomplete(\" [   {\")"
   ]
  },
  {
   "cell_type": "code",
   "execution_count": 3,
   "metadata": {},
   "outputs": [
    {
     "name": "stdout",
     "output_type": "stream",
     "text": [
      "Done.\n"
     ]
    }
   ],
   "source": [
    "test_all(\"   {  }    \")"
   ]
  },
  {
   "cell_type": "code",
   "execution_count": 4,
   "metadata": {},
   "outputs": [
    {
     "name": "stdout",
     "output_type": "stream",
     "text": [
      "Done.\n",
      "Done.\n"
     ]
    }
   ],
   "source": [
    "test = r\"\"\"\n",
    "{\n",
    "  \"menu\": {\n",
    "    \"id\": \"file\",\n",
    "    \"value\": \"File\",\n",
    "    \"popup\": {\n",
    "      \"menuitem\": [\n",
    "        {\"value\": \"New\", \"onclick\": \"CreateNewDoc()\"},\n",
    "        {\"value\": \"Open\", \"onclick\": \"OpenDoc()\"},\n",
    "        {\"value\": \"Close\", \"onclick\": \"CloseDoc()\"}\n",
    "      ]\n",
    "    }\n",
    "  },\n",
    "  \"window\": {\n",
    "    \"title\": \"Sample Konfabulator Widget\",\n",
    "    \"name\": \"main_window\",\n",
    "    \"width\": 500,\n",
    "    \"height\": 500\n",
    "  },\n",
    "  \"image\": { \n",
    "    \"src\": \"Images/Sun.png\",\n",
    "    \"name\": \"sun1\",\n",
    "    \"hOffset\": 250,\n",
    "    \"vOffset\": 250,\n",
    "    \"alignment\": \"center\"\n",
    "  },\n",
    "  \"text\": {\n",
    "    \"data\": \"Click Here\",\n",
    "    \"size\": 36,\n",
    "    \"style\": \"bold\",\n",
    "    \"name\": \"text1\",\n",
    "    \"hOffset\": 250,\n",
    "    \"vOffset\": 100,\n",
    "    \"alignment\": \"center\",\n",
    "    \"onMouseUp\": \"sun1.opacity = (sun1.opacity / 100) * 90;\"\n",
    "  },\n",
    "  \"special_chars\": \"\\b\\f\\n\\r\\t\\\"\\u263A\",\n",
    "  \"number_formats\": {\n",
    "    \"integer\": 12345,\n",
    "    \"float\": 67890.12345,\n",
    "    \"exp\": 7.0e-12,\n",
    "    \"expBig\": 7.0e12,\n",
    "    \"expBig2\": 7.0e+12,\n",
    "    \"negative\": -42,\n",
    "    \"exponent\": 1.23e5\n",
    "  },\n",
    "  \"extraWhitespace\": \"    This string starts with 4 spaces\",\n",
    "  \"boolean\": true,\n",
    "  \"nullValue\": null\n",
    "}\n",
    "\n",
    "\"\"\"\n",
    "\n",
    "test_all(test)\n",
    "test_all(test.replace(\" \", \"\"))"
   ]
  },
  {
   "cell_type": "code",
   "execution_count": 5,
   "metadata": {},
   "outputs": [
    {
     "name": "stdout",
     "output_type": "stream",
     "text": [
      "Done.\n",
      "Done.\n"
     ]
    }
   ],
   "source": [
    "test2 = r\"\"\"\n",
    "{\n",
    "  \"\\u0043onfig\": {\n",
    "    \"debug\": true,\n",
    "    \"format\": \"\\/Date(123456789)\\/\",\n",
    "    \"regex\": \"^[a-zA-Z]+(([',. -][a-zA-Z ])?[a-zA-Z]*)*$\",\n",
    "    \"unicodeTest\": \"Test\\u0020with\\u0020escaped\\u0020unicode\",\n",
    "    \"escapedCharacters\": \"Line1\\\\nLine2\\\\nLine3\",\n",
    "    \"specialChars\": \"<>&\\\"'`\"\n",
    "  },\n",
    "  \"response\": {\n",
    "    \"status\": \"OK\",\n",
    "    \"statusCode\": 200,\n",
    "    \"headers\": {\n",
    "      \"content-type\": \"application/json\",\n",
    "      \"cache-control\": \"no-cache\"\n",
    "    },\n",
    "    \"body\": {\n",
    "      \"message\": \"Success\",\n",
    "      \"payload\": {\n",
    "        \"items\": [\n",
    "          {\"id\": 1, \"value\": \"\\u20AC100\"},\n",
    "          {\"id\": 2, \"value\": \"\\u00A5100\"},\n",
    "          {\"id\": 3, \"value\": \"$100\"}\n",
    "        ],\n",
    "        \"moreInfo\": {\n",
    "          \"details\": {\n",
    "            \"description\": \"Nested deeper\",\n",
    "            \"tags\": [\"unit\", \"test\", \"json\"]\n",
    "          },\n",
    "          \"isValid\": false\n",
    "        }\n",
    "      }\n",
    "    }\n",
    "  },\n",
    "  \"numberList\": [0, 3.14, -5, 2.998e8, 0.0001],\n",
    "  \"mixedArray\": [1, \"two\", null, {\"nested\": \"object\"}, [1, 2, 3]],\n",
    "  \"booleanArray\": [true, false, true],\n",
    "  \"nullTest\": null,\n",
    "  \"trueFalseTest\": {\n",
    "    \"true\": true,\n",
    "    \"false\": false\n",
    "  },\n",
    "  \"metadata\": {\n",
    "    \"createdBy\": \"ChatGPT\",\n",
    "    \"createdOn\": \"2023-11-05T12:34:56Z\"\n",
    "  },\n",
    "  \"whitespaceTest\": \"   There are 3 spaces at the start and end   \"\n",
    "}\n",
    "\n",
    "\"\"\"\n",
    "\n",
    "test_all(test2)\n",
    "test_all(test2.replace(\" \", \"\"))"
   ]
  },
  {
   "cell_type": "code",
   "execution_count": 6,
   "metadata": {},
   "outputs": [
    {
     "name": "stdout",
     "output_type": "stream",
     "text": [
      "8.22 ms ± 126 µs per loop (mean ± std. dev. of 7 runs, 100 loops each)\n",
      "1083\n",
      "5.83 ms ± 201 µs per loop (mean ± std. dev. of 7 runs, 100 loops each)\n",
      "842\n",
      "10.7 ms ± 46.6 µs per loop (mean ± std. dev. of 7 runs, 100 loops each)\n",
      "1258\n",
      "6.99 ms ± 53.2 µs per loop (mean ± std. dev. of 7 runs, 100 loops each)\n",
      "948\n"
     ]
    }
   ],
   "source": [
    "# benchmark\n",
    "%timeit benchmark_all(test)\n",
    "print(len(test))\n",
    "%timeit benchmark_all(test.replace(\" \", \"\"))\n",
    "print(len(test.replace(\" \", \"\")))\n",
    "%timeit benchmark_all(test2)\n",
    "print(len(test2))\n",
    "%timeit benchmark_all(test2.replace(\" \", \"\"))\n",
    "print(len(test2.replace(\" \", \"\")))"
   ]
  }
 ],
 "metadata": {
  "kernelspec": {
   "display_name": "base",
   "language": "python",
   "name": "python3"
  },
  "language_info": {
   "codemirror_mode": {
    "name": "ipython",
    "version": 3
   },
   "file_extension": ".py",
   "mimetype": "text/x-python",
   "name": "python",
   "nbconvert_exporter": "python",
   "pygments_lexer": "ipython3",
   "version": "3.11.5"
  }
 },
 "nbformat": 4,
 "nbformat_minor": 2
}
